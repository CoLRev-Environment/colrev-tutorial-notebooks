{
 "cells": [
  {
   "cell_type": "markdown",
   "id": "0ff7b136",
   "metadata": {},
   "source": [
    "# CoLRev Tutorial\n",
    "\n",
    "<p style=\"max-width: 800px; margin-left: 0; margin-right: 0; text-align: justify;\">We  <img src=\"img/iconmonstr-favorite-2.svg\" alt=\"Edit\" width=\"12\" height=\"12\">  your <a href=\"https://github.com/CoLRev-Environment/colrev-tutorial/issues/new/choose\" target=\"_blank\">feedback</a> and <a href=\"https://github.com/CoLRev-Environment/colrev-tutorial/issues/edit/main/.devcontainer/tutorial.ipynb\" target=\"_blank\">suggestions</a> on this notebook!</p>\n",
    "\n",
    "---"
   ]
  },
  {
   "cell_type": "markdown",
   "id": "73e5334c",
   "metadata": {},
   "source": [
    "<p style=\"max-width: 800px; margin-left: 0; margin-right: 0; text-align: justify;\">The goal of this tutorial is to demonstrate the CoLRev workflow on GitHub codespaces.</p>\n",
    "\n",
    "| Part | Label                         | Time (min) |\n",
    "|------|-------------------------------| ---------- |\n",
    "|  1   | [Init](#init)                 | 5          |\n",
    "|  2   | [Search](#search)             | 15         |\n",
    "|  3   | [Screen](#screen)             | 15         |\n",
    "|  4   | [Data](#data)                 | 10         |\n",
    "|  5   | [Bonus](#bonus)               |            |\n",
    "|      | **Overall**                   | **45**     |\n",
    "\n",
    "<br>\n",
    "\n",
    "---"
   ]
  },
  {
   "cell_type": "markdown",
   "id": "01092277",
   "metadata": {},
   "source": [
    "<p style=\"max-width: 800px; margin-left: 0; margin-right: 0; text-align: justify;\"><div style=\"border: 2px solid #ff9800; padding: 10px; background-color: #ffe0b2; color: #e65100; border-radius: 5px; display: inline-block; max-width: 800px; width: 100%;\">\n",
    "    <strong>Important:</strong> Please run all of the following commands in the shell as shown in the screenshot.\n",
    "    <div style=\"clear: both;\"></div>\n",
    "    <img src=\"img/codespace_shell.png\" style=\"max-width: 100%; border-radius: 5px;\">\n",
    "</div></p>"
   ]
  },
  {
   "cell_type": "markdown",
   "id": "e21c485c",
   "metadata": {},
   "source": [
    "# Start\n",
    "\n",
    "Start the CoLRev tutorial in a separate window using GitHub Codespaces:\n",
    "\n",
    "\n",
    "<a href=\"https://github.com/codespaces/new?hide_repo_select=true&ref=main&repo=767717822\" target=\"_blank\" style=\"display: inline-block; padding: 10px 20px; font-size: 16px; color: white; background-color: #28a745; border-radius: 5px; text-decoration: none;\">\n",
    "  Start Codespace\n",
    "</a>\n"
   ]
  },
  {
   "cell_type": "markdown",
   "id": "abdf3565",
   "metadata": {},
   "source": [
    "# 1. Init <a id=\"init\"></a>\n",
    "\n",
    "<p style=\"max-width: 800px; margin-left: 0; margin-right: 0; text-align: justify;\">To get started, simply type <code>colrev init</code> on the command line and press <code>Enter</code></p>"
   ]
  },
  {
   "cell_type": "code",
   "execution_count": null,
   "id": "65635a25",
   "metadata": {},
   "outputs": [],
   "source": [
    "colrev init"
   ]
  },
  {
   "cell_type": "markdown",
   "id": "b3b33c1f",
   "metadata": {},
   "source": [
    "<p style=\"max-width: 800px; margin-left: 0; margin-right: 0; text-align: justify;\"><code>colrev init</code> initializes a new CoLRev project. With this operation, the directories and files, including the git history, are set up. For more information check the  <a href=\\\"https://colrev-environment.github.io/colrev/manual/problem_formulation/init.html\\\">documentation.</a>)</p>\n",
    "\n",
    "<b>Notes:</b>\n",
    "\n",
    "<div style=\"max-width: 800px; margin-left: 0; margin-right: 0; text-align: justify;\">\n",
    "    <ul>\n",
    "        <li>Check out the folder scaffold being created on the left</li>\n",
    "        <li>You can specify a particular <a href=\"https://colrev-environment.github.io/colrev/manual/problem_formulation/init.html\">review type</a> by running <code>colrev init --type REVIEW_TYPE</code></li>\n",
    "        <li>When starting the project, it is good practice to use the <code>data/data/paper.md</code> as a protocol</li>\n",
    "        <li>You can always add <code>--help</code> to the following commands to display more information (e.g., <code>colrev init --help</code>).</li>\n",
    "    </ul>\n",
    "</div>\n",
    "\n",
    "\n",
    "<p style=\"max-width: 800px; margin-left: 0; margin-right: 0; text-align: justify;\">It is good practice to run <code>colrev status</code> regularly to assess the current progress of the review and  identify the next steps:</p>"
   ]
  },
  {
   "cell_type": "code",
   "execution_count": null,
   "id": "9ff157d0",
   "metadata": {},
   "outputs": [],
   "source": [
    "colrev status"
   ]
  },
  {
   "cell_type": "markdown",
   "id": "cd294dff",
   "metadata": {},
   "source": [
    "# 2. Search <a id=\"search\"></a>\n",
    "\n",
    "To add records the `colrev search` command can be used."
   ]
  },
  {
   "cell_type": "code",
   "execution_count": null,
   "id": "ec0ad278",
   "metadata": {},
   "outputs": [],
   "source": [
    "colrev search --add"
   ]
  },
  {
   "cell_type": "markdown",
   "id": "ae5d9d63",
   "metadata": {},
   "source": [
    "<p style=\"max-width: 800px; margin-left: 0; margin-right: 0; text-align: justify;\">Use <code>colrev search --add</code> to add searches of the <b>Crossref</b> API and the <b>DBLP</b> API, using the search term <code>microsourcing</code>.</p>\n",
    "\n",
    "<!-- \n",
    "`colrev search --add` adds a SearchSource to the project settings and record metadata are retrieved. SearchSources keep track of the associated queries, as well as the search results files. CoLRev includes serveral types of SearchSources such as, for example, traditional database searches, API-based searches, or backward and forward searches. For more information check the [documentation](https://colrev-environment.github.io/colrev/manual/metadata_retrieval/search.html).\n",
    "\n",
    "1. Add ACM Digital Library as our first search source:\n",
    "```\n",
    "colrev search --add colrev.acm_digital_library\n",
    "```\n",
    "\n",
    "ACM Digital Library can only be searched manually via a database search. Follow the instructions provided or go to the [search](https://dl.acm.org/action/doSearch?fillQuickSearch=false&target=advanced&expand=all&AllField=Title%3A%28microsourcing%29+OR+Abstract%3A%28microsourcing%29+OR+Keyword%3A%28microsourcing%29), select all records, click export, save the search query in `data/search/acm_digital_library_query.txt`, upload the export to `data/search/acm_digital_library.bib`, and press `Enter`.\n",
    "\n",
    "2. Add AIS library as our second search source:\n",
    "\n",
    "```\n",
    "colrev search --add colrev.ais_library\n",
    "```\n",
    "\n",
    "Select SearchType API and paste the following as the search query to search for microsourcing in titles, abstracts, and keywords: `title:microsourcing OR abstract:microsourcing OR subject:microsourcing`\n",
    "-->\n",
    "\n",
    "<p style=\"max-width: 800px; margin-left: 0; margin-right: 0; text-align: justify;\">After the search, continue with the following commands:</p>"
   ]
  },
  {
   "cell_type": "code",
   "execution_count": null,
   "id": "cb3cd8f1",
   "metadata": {},
   "outputs": [],
   "source": [
    "colrev load\n",
    "colrev prep\n",
    "colrev dedupe"
   ]
  },
  {
   "cell_type": "markdown",
   "id": "b484149c",
   "metadata": {},
   "source": [
    "<div style=\"max-width: 800px; margin-left: 0; margin-right: 0; text-align: justify;\">\n",
    "    <ul>\n",
    "        <li>In the <code>colrev load</code> operation, search results are added to the main records. Records from the search result files are identified based on unique origin IDs and added to the main records file (<code>data/records.bib</code>). For more information check the <a href=\"https://colrev-environment.github.io/colrev/manual/metadata_retrieval/load.html\">documentation</a>.</li>\n",
    "        <li>In the <code>colrev prep</code> operation, metadata quality of records is improved. Preparation procedures include general formatting rules, SearchSource-specific fixes, and cross-checks with metadata repositories and curated CoLRev repositories. For more information check the <a href=\"https://colrev-environment.github.io/colrev/manual/metadata_retrieval/prep.html\">documentation</a>.</li>\n",
    "        <li>In the <code>colrev dedupe</code> operation, duplicate records are identified and merged. The predecessors of a merged record can be identified through the <code>colrev_origin</code> list field in <code>data/records.bib</code>, enabling ex-post validation and offering the possibility to undo merges. For more information check the <a href=\"https://colrev-environment.github.io/colrev/manual/metadata_retrieval/dedupe.html\">documentation</a>.</li>\n",
    "    </ul>\n",
    "</div>\n",
    "\n",
    "\n",
    "<b>Notes:</b>\n",
    "\n",
    "<div style=\"max-width: 800px; margin-left: 0; margin-right: 0; text-align: justify;\">\n",
    "    <ul>\n",
    "        <li>At this point, it may be a good idea to check the state of your CoLRev repository via <code>colrev status</code>.</li>\n",
    "        <li>If you check the changes introduced by prep, you may recognize that local quality rules (specific to AIS content) were applied.</li>\n",
    "    </ul>\n",
    "</div>\n",
    "\n",
    "<!-- - You can also use [litbaskets.io](https://litbaskets.io/) to search and use the Scopus export -->"
   ]
  },
  {
   "cell_type": "markdown",
   "id": "967cfad3",
   "metadata": {},
   "source": [
    "<p style=\"max-width: 800px; margin-left: 0; margin-right: 0; text-align: justify;\">To update the search, you can simply run the following command again (and again, ...):</p>"
   ]
  },
  {
   "cell_type": "code",
   "execution_count": null,
   "id": "ffaab460",
   "metadata": {},
   "outputs": [],
   "source": [
    "colrev search"
   ]
  },
  {
   "cell_type": "markdown",
   "id": "439a5860",
   "metadata": {},
   "source": [
    "# 3. Screen <a id=\"screen\"></a>\n",
    "\n",
    "<p style=\"max-width: 800px; margin-left: 0; margin-right: 0; text-align: justify;\">The metadata prescreen refers to the inclusion or exclusion of records based on titles and abstracts (if available).</p>"
   ]
  },
  {
   "cell_type": "code",
   "execution_count": null,
   "id": "366660cd",
   "metadata": {},
   "outputs": [],
   "source": [
    "colrev prescreen"
   ]
  },
  {
   "cell_type": "markdown",
   "id": "31c03229",
   "metadata": {},
   "source": [
    "<p style=\"max-width: 800px; margin-left: 0; margin-right: 0; text-align: justify;\">The main purpose of <code>colrev prescreen</code> is to reduce the number of records by excluding those that are clearly irrelevant to the review objectives. When in doubt, records can be retained (included provisionally) to decide in step 5, i.e., the screen based on full-text documents. For more information check the <a href=\\\"https://colrev-environment.github.io/colrev/manual/metadata_prescreen.html\\\">documentation</a>.</p>\n",
    "\n",
    "<p style=\"max-width: 800px; margin-left: 0; margin-right: 0; text-align: justify;\">Provide a short explanation of the prescreen and decide on inclusion/exclusion of each record based on the titles and abstracts displayed.</p>\n",
    "\n",
    "<p style=\"max-width: 800px; margin-left: 0; margin-right: 0; text-align: justify;\">The step of PDF retrieval refers to the activities to acquire PDF documents (or documents in other formats) as well as to ascertain or improve their quality.</p>"
   ]
  },
  {
   "cell_type": "code",
   "execution_count": null,
   "id": "e25b6ca5",
   "metadata": {},
   "outputs": [],
   "source": [
    "colrev pdfs"
   ]
  },
  {
   "cell_type": "markdown",
   "id": "5bfbcadc",
   "metadata": {},
   "source": [
    "<p style=\"max-width: 800px; margin-left: 0; margin-right: 0; text-align: justify;\"><code>colrev pdfs</code> ensures that PDF documents correspond to their associated metadata (no mismatches), that they are machine readable (OCR and semantically annotated), and that unnecessary materials (such as cover pages) are removed. For more information check the <a href=\\\"https://colrev-environment.github.io/colrev/manual/pdf_retrieval.html\\\">documentation</a>.</p>\n",
    "\n",
    "<p style=\"max-width: 800px; margin-left: 0; margin-right: 0; text-align: justify;\">You may need to collect some PDFs manually. For <code>colrev pdf-get-man</code> follow the instructions provided by `colrev` on the command line.</p>\n",
    "\n",
    "<p style=\"max-width: 800px; margin-left: 0; margin-right: 0; text-align: justify;\">You may also need to manually prepare some PDFs via <code>colrev pdf-prep-man</code>.</p>\n",
    "\n",
    "<p style=\"max-width: 800px; margin-left: 0; margin-right: 0; text-align: justify;\">The PDF screen refers to the final inclusion or exclusion of records based on PDF documents.</p>"
   ]
  },
  {
   "cell_type": "code",
   "execution_count": null,
   "id": "56548fcf",
   "metadata": {},
   "outputs": [],
   "source": [
    "colrev screen"
   ]
  },
  {
   "cell_type": "markdown",
   "id": "fc45543b",
   "metadata": {},
   "source": [
    "<p style=\"max-width: 800px; margin-left: 0; margin-right: 0; text-align: justify;\">In <code>colrev screen</code>, screening criteria, which can be inclusion or exclusion criteria, are a means to making these decisions more transparent (e.g., in a PRISMA flow chart). Records are only included when none of the criteria is violated. For more information check the  <a href=\\\"https://colrev-environment.github.io/colrev/manual/pdf_screen.html\\\">documentation</a>.</p>\n",
    "\n",
    "<p style=\"max-width: 800px; margin-left: 0; margin-right: 0; text-align: justify;\">Screening criteria can be added by providing a short name, defining an inclusion (i) or exclusion (e) criterion, and by providing a short explanation. After defining all screening criteria, each record will be screened against each criterion.</p>\n",
    "\n",
    "**Notes:**\n",
    "\n",
    "<div style=\"max-width: 800px; margin-left: 0; margin-right: 0; text-align: justify;\">\n",
    "    <ul>\n",
    "        <li>Both prescreen and screen can be split to distribute the workload among multiple researchers.</li>\n",
    "        <li>You can extract abstracts from the PDFs before the screen by running <code>colrev screen --add_abstracts_from_tei</code>.</li>\n",
    "    </ul>\n",
    "</div>\n"
   ]
  },
  {
   "cell_type": "markdown",
   "id": "40350128",
   "metadata": {},
   "source": [
    "# 4. Data <a id=\"data\"></a>\n",
    "\n",
    "<p style=\"max-width: 800px; margin-left: 0; margin-right: 0; text-align: justify;\">The last step corresponds to the data extraction, analysis and synthesis activities. Depending on the type of review, this step can involve very different activities and outcomes.</p>"
   ]
  },
  {
   "cell_type": "code",
   "execution_count": null,
   "id": "f21cfecf",
   "metadata": {},
   "outputs": [],
   "source": [
    "colrev data"
   ]
  },
  {
   "cell_type": "markdown",
   "id": "7120fbd4",
   "metadata": {},
   "source": [
    "<p style=\"max-width: 800px; margin-left: 0; margin-right: 0; text-align: justify;\">In the colrev data operation, records transition from <code>rev_included</code> to <code>rev_synthesized</code>. The data analysis and synthesis can involve different activities (data endpoints). For more information check the <a href=\\\"https://colrev-environment.github.io/colrev/manual/data/data.html\\\">documentation</a>.</p>"
   ]
  },
  {
   "cell_type": "markdown",
   "id": "7a561341",
   "metadata": {},
   "source": [
    "# 5. Bonus (Optional)  <a id=\"bonus\"></a>\n",
    "\n",
    "\n",
    "<div style=\"max-width: 800px; margin-left: 0; margin-right: 0; text-align: justify;\">\n",
    "    <ol>\n",
    "        <li>Analyze how the change history of the review develops by navigating to the Versioning tab on the left, iterating through the commits (the Version history), and analyzing the file changes:</li>\n",
    "    </ol>\n",
    "    <img src=\"img/change-1.png\" style=\"max-width: 800px; border-radius: 5px;\">\n",
    "    <ol start=\"2\">\n",
    "        <li>The paper-md endpoint is added per default for most of the review types. It can be used to create a review protocol or a manuscript based on pandoc and <a href=\"https://citationstyles.org/\">CSL</a> citation styles.</li>\n",
    "        <li>Add a PRISMA chart as our second data endpoint (if it is not already in the <code>settings.json</code>):</li>\n",
    "    </ol>\n",
    "    <pre><code>colrev data --add colrev.prisma</code></pre>\n",
    "    <p style=\"max-width: 800px; margin-left: 0; margin-right: 0; text-align: justify;\">The prisma endpoint generates a PRISMA flow chart based on the current state of the review.</p>\n",
    "    <ol start=\"4\">\n",
    "        <li>Add a BiBTex export as our third data endpoint:</li>\n",
    "    </ol>\n",
    "    <pre><code>colrev data --add colrev.bibliography_export</code></pre>\n",
    "    <p style=\"max-width: 800px; margin-left: 0; margin-right: 0; text-align: justify;\">The bibliography-export endpoint exports the records in different bibliographical formats, which can be useful when the team works with a particular reference manager.</p>\n",
    "    <ol start=\"5\">\n",
    "        <li>Update an existing search</li>\n",
    "        <li>Conduct a backward search</li>\n",
    "    </ol>\n",
    "</div>\n",
    "\n",
    "\n",
    "\n",
    "\n",
    "<br>\n",
    "\n",
    "---"
   ]
  },
  {
   "cell_type": "markdown",
   "id": "0628bd39",
   "metadata": {},
   "source": [
    "## Wrap-up  <a id=\"wrap-up\"></a>\n",
    "\n",
    "🎉🎈 You have completed the CoLRev Tutorial - good work! 🎈🎉\n",
    "\n",
    "To use CoLRev for literature review projects, we recommend a local setup.\n",
    "\n",
    "<!--\n",
    "\n",
    "In this notebook, we have learned to\n",
    "\n",
    "- Clone a repository and check the `git status`\n",
    "- Create, stage, and commit changes using `git add`, `git commit` and `git restore`\n",
    "- Create atomic commits\n",
    "- Undo changes\n",
    "- Navigate Visualstudio Code on GitHub Codespaces\n",
    "\n",
    "Remember to delete your codespace [here](https://github.com/codespaces) (see [instructions](codespaces.ipynb)).\n",
    "\n",
    "-->"
   ]
  }
 ],
 "metadata": {
  "kernelspec": {
   "display_name": "Python 3 (ipykernel)",
   "language": "python",
   "name": "python3"
  },
  "language_info": {
   "codemirror_mode": {
    "name": "ipython",
    "version": 3
   },
   "file_extension": ".py",
   "mimetype": "text/x-python",
   "name": "python",
   "nbconvert_exporter": "python",
   "pygments_lexer": "ipython3",
   "version": "3.12.7"
  }
 },
 "nbformat": 4,
 "nbformat_minor": 5
}
